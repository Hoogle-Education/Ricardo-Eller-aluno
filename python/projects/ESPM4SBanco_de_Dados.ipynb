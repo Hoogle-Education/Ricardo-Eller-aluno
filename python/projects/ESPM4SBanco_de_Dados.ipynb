{
  "cells": [
    {
      "cell_type": "code",
      "execution_count": 2,
      "metadata": {
        "colab": {
          "base_uri": "https://localhost:8080/"
        },
        "id": "D2jO71BMtTX-",
        "outputId": "38ec7a89-fc0c-4062-9f24-102f1e6f4d1f"
      },
      "outputs": [
        {
          "name": "stdout",
          "output_type": "stream",
          "text": [
            "Requirement already satisfied: pyodbc in c:\\users\\hugor\\appdata\\local\\packages\\pythonsoftwarefoundation.python.3.9_qbz5n2kfra8p0\\localcache\\local-packages\\python39\\site-packages (4.0.34)\n",
            "\n",
            "[notice] A new release of pip available: 22.1.2 -> 22.2.2\n",
            "[notice] To update, run: C:\\Users\\hugor\\AppData\\Local\\Microsoft\\WindowsApps\\PythonSoftwareFoundation.Python.3.9_qbz5n2kfra8p0\\python.exe -m pip install --upgrade pip\n",
            "Note: you may need to restart the kernel to use updated packages.\n"
          ]
        }
      ],
      "source": [
        "pip install pyodbc"
      ]
    },
    {
      "cell_type": "code",
      "execution_count": 31,
      "metadata": {
        "colab": {
          "base_uri": "https://localhost:8080/",
          "height": 203
        },
        "id": "mq5luGGSw0cW",
        "outputId": "caa78989-b0a9-42eb-c27d-f787c9a3cb34"
      },
      "outputs": [
        {
          "name": "stdout",
          "output_type": "stream",
          "text": [
            "(1, 'andre', 35)\n",
            "(2, 'ana', 26)\n",
            "(3, 'joão', 45)\n"
          ]
        }
      ],
      "source": [
        "import pyodbc\n",
        "\n",
        "server = 'dlapoio.database.windows.net'\n",
        "database = 'masterUber'\n",
        "username = 'andre'\n",
        "password = 'ShC12%Uz'\n",
        "driver = 'SQL Server'\n",
        "\n",
        "cnxn = pyodbc.connect('DRIVER='+driver+';SERVER='+server+';PORT=1433;DATABASE='+database+';UID='+username+';PWD='+ password)\n",
        "\n",
        "cursor = cnxn.cursor()\n",
        "\n",
        "cursor.execute('SELECT * FROM tb_pessoas')\n",
        "\n",
        "for linha in cursor.fetchall():\n",
        "    print(linha)"
      ]
    },
    {
      "cell_type": "code",
      "execution_count": 29,
      "metadata": {},
      "outputs": [
        {
          "name": "stdout",
          "output_type": "stream",
          "text": [
            "create ok\n"
          ]
        }
      ],
      "source": [
        "import sqlite3\n",
        "\n",
        "conn = sqlite3.connect('espm4s.db')\n",
        "\n",
        "cursor = conn.cursor()\n",
        "\n",
        "cursor.execute(\"\"\"\n",
        "    CREATE TABLE IF NOT EXISTS tb_pessoas(\n",
        "        id  INTEGER NOT N\n",
        "        ULL PRIMARY KEY AUTOINCREMENT,\n",
        "        nome TEXT NOT NULL,\n",
        "        idade INT NOT NULL,\n",
        "        altura FLOAT NOT NULL\n",
        "    ) \"\"\")\n",
        "\n",
        "print('create ok')\n",
        "\n",
        "conn.commit()"
      ]
    },
    {
      "cell_type": "code",
      "execution_count": 30,
      "metadata": {},
      "outputs": [
        {
          "name": "stdout",
          "output_type": "stream",
          "text": [
            "linha criada\n"
          ]
        }
      ],
      "source": [
        "import sqlite3\n",
        "\n",
        "conn = sqlite3.connect('espm4s.db')\n",
        "\n",
        "cursor = conn.cursor()\n",
        "nome  = input('Digite o nome: ')\n",
        "idade = int(input('Digite a idade'))\n",
        "\n",
        "cursor.execute(\"\"\"\n",
        "INSERT INTO tb_pessoas\n",
        "  (nome, idade)\n",
        "  VALUES (?,?)\"\"\",\n",
        "  (nome, idade))\n",
        "\n",
        "print('linha criada')\n",
        "\n",
        "# efetiva as alterações no banco de dados\n",
        "conn.commit()\n",
        "\n",
        "conn.close()\n"
      ]
    },
    {
      "cell_type": "code",
      "execution_count": 14,
      "metadata": {},
      "outputs": [
        {
          "name": "stdout",
          "output_type": "stream",
          "text": [
            "update ok\n"
          ]
        }
      ],
      "source": [
        "import sqlite3\n",
        "\n",
        "conn = sqlite3.connect('espm4s.db')\n",
        "\n",
        "cursor = conn.cursor()\n",
        "\n",
        "cursor.execute(\"\"\"\n",
        "  UPDATE tb_pessoas\n",
        "  SET nome = ? \n",
        "  WHERE id = ?\"\"\", \n",
        "  ('Andre Insardi', 1))\n",
        "\n",
        "print('update ok')\n",
        "\n",
        "conn.commit()\n",
        "\n",
        "conn.close()\n"
      ]
    },
    {
      "cell_type": "code",
      "execution_count": 20,
      "metadata": {},
      "outputs": [
        {
          "name": "stdout",
          "output_type": "stream",
          "text": [
            "delete ok\n"
          ]
        }
      ],
      "source": [
        "import sqlite3\n",
        "\n",
        "conn = sqlite3.connect('espm4s.db')\n",
        "\n",
        "cursor = conn.cursor()\n",
        "\n",
        "cursor.execute(\"\"\"\n",
        "DELETE FROM tb_pessoas\n",
        "  WHERE id = 1\"\"\")\n",
        "\n",
        "print('delete ok')\n",
        "\n",
        "conn.commit()\n",
        "\n",
        "conn.close()"
      ]
    },
    {
      "cell_type": "code",
      "execution_count": 28,
      "metadata": {},
      "outputs": [
        {
          "ename": "OperationalError",
          "evalue": "no such column: \"altura\"",
          "output_type": "error",
          "traceback": [
            "\u001b[1;31m---------------------------------------------------------------------------\u001b[0m",
            "\u001b[1;31mOperationalError\u001b[0m                          Traceback (most recent call last)",
            "Cell \u001b[1;32mIn [28], line 7\u001b[0m\n\u001b[0;32m      3\u001b[0m conn \u001b[38;5;241m=\u001b[39m sqlite3\u001b[38;5;241m.\u001b[39mconnect(\u001b[38;5;124m'\u001b[39m\u001b[38;5;124mespm4s.db\u001b[39m\u001b[38;5;124m'\u001b[39m)\n\u001b[0;32m      5\u001b[0m cursor \u001b[38;5;241m=\u001b[39m conn\u001b[38;5;241m.\u001b[39mcursor()\n\u001b[1;32m----> 7\u001b[0m \u001b[43mcursor\u001b[49m\u001b[38;5;241;43m.\u001b[39;49m\u001b[43mexecute\u001b[49m\u001b[43m(\u001b[49m\u001b[38;5;124;43m\"\"\"\u001b[39;49m\n\u001b[0;32m      8\u001b[0m \u001b[38;5;124;43mALTER TABLE tb_pessoas\u001b[39;49m\n\u001b[0;32m      9\u001b[0m \u001b[38;5;124;43mDROP COLUMN altura\u001b[39;49m\u001b[38;5;124;43m\"\"\"\u001b[39;49m\u001b[43m)\u001b[49m\n\u001b[0;32m     11\u001b[0m \u001b[38;5;28mprint\u001b[39m(\u001b[38;5;124m'\u001b[39m\u001b[38;5;124malter ok\u001b[39m\u001b[38;5;124m'\u001b[39m)\n\u001b[0;32m     13\u001b[0m conn\u001b[38;5;241m.\u001b[39mcommit()\n",
            "\u001b[1;31mOperationalError\u001b[0m: no such column: \"altura\""
          ]
        }
      ],
      "source": [
        "import sqlite3\n",
        "\n",
        "conn = sqlite3.connect('espm4s.db')\n",
        "\n",
        "cursor = conn.cursor()\n",
        "\n",
        "cursor.execute(\"\"\"\n",
        "ALTER TABLE tb_pessoas\n",
        "DROP COLUMN altura\"\"\")\n",
        "\n",
        "print('alter ok')\n",
        "\n",
        "conn.commit()\n",
        "\n",
        "conn.close()"
      ]
    }
  ],
  "metadata": {
    "colab": {
      "provenance": []
    },
    "kernelspec": {
      "display_name": "Python 3.9.13 64-bit (microsoft store)",
      "language": "python",
      "name": "python3"
    },
    "language_info": {
      "codemirror_mode": {
        "name": "ipython",
        "version": 3
      },
      "file_extension": ".py",
      "mimetype": "text/x-python",
      "name": "python",
      "nbconvert_exporter": "python",
      "pygments_lexer": "ipython3",
      "version": "3.9.13"
    },
    "vscode": {
      "interpreter": {
        "hash": "2a078324f6f3815219f59bdf36e0aa6fb84af4ea4619664e0e96b6c9a15648e8"
      }
    }
  },
  "nbformat": 4,
  "nbformat_minor": 0
}
